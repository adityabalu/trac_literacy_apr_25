{
 "cells": [
  {
   "cell_type": "markdown",
   "metadata": {},
   "source": [
    "# 🌟 Personalized Weekend Planner Demo\n",
    "This notebook demonstrates how to build a weekend planner using real-time weather based on location and dates.\n",
    "\n",
    "Technologies used:\n",
    "- LangGraph\n",
    "- LangChain Tools\n",
    "- External APIs: WeatherAPI\n"
   ]
  },
  {
   "cell_type": "code",
   "execution_count": null,
   "metadata": {},
   "outputs": [],
   "source": [
    "! pip install langchain langgraph dateparser"
   ]
  },
  {
   "cell_type": "code",
   "execution_count": 23,
   "metadata": {},
   "outputs": [],
   "source": [
    "#Import Dependencies \n",
    "\n",
    "import requests\n",
    "import dateparser\n",
    "from datetime import datetime, timedelta\n",
    "import json\n",
    "from typing import List, Dict, Any, Annotated, Literal\n",
    "from langchain_core.tools import tool\n",
    "from langchain_openai import ChatOpenAI\n",
    "from langgraph.graph import StateGraph\n",
    "from langgraph.graph.message import add_messages\n",
    "from langgraph.prebuilt import ToolNode\n",
    "from typing_extensions import TypedDict\n",
    "from typing import Any, Dict, List, Optional\n",
    "import requests"
   ]
  },
  {
   "cell_type": "code",
   "execution_count": 24,
   "metadata": {},
   "outputs": [],
   "source": [
    "# Load API Keys\n",
    "key = json.load(open(\"keys.json\"))\n",
    "WEATHER_API_KEY = key[\"weather_api\"]"
   ]
  },
  {
   "cell_type": "code",
   "execution_count": 25,
   "metadata": {},
   "outputs": [],
   "source": [
    "# Helper Functions Section\n",
    "\n",
    "def resolve_dates(dates: List[str]) -> List[datetime.date]:\n",
    "    resolved = []\n",
    "    for d in dates:\n",
    "        parsed = dateparser.parse(d, settings={'PREFER_DATES_FROM': 'future'})\n",
    "        if parsed:\n",
    "            resolved.append(parsed.date())\n",
    "    return resolved\n",
    "\n",
    "def fetch_weather(location: str, target_date: datetime.date) -> Dict[str, Any]:\n",
    "    days_diff = (target_date - datetime.now().date()).days\n",
    "    if days_diff < 0 or days_diff > 14:\n",
    "        return {\"error\": \"Date out of range (must be within 14 days)\"}\n",
    "\n",
    "    url = f\"http://api.weatherapi.com/v1/forecast.json\"\n",
    "    response = requests.get(url, params={\n",
    "        \"key\": WEATHER_API_KEY,\n",
    "        \"q\": location,\n",
    "        \"days\": days_diff + 1,\n",
    "        \"aqi\": \"no\"\n",
    "    })\n",
    "    data = response.json()\n",
    "\n",
    "    for day in data[\"forecast\"][\"forecastday\"]:\n",
    "        if day[\"date\"] == target_date.strftime(\"%Y-%m-%d\"):\n",
    "            return {\n",
    "                \"condition\": day[\"day\"][\"condition\"][\"text\"],\n",
    "                \"max_temp_c\": day[\"day\"][\"maxtemp_c\"],\n",
    "                \"min_temp_c\": day[\"day\"][\"mintemp_c\"],\n",
    "                \"rain_chance\": day[\"day\"][\"daily_chance_of_rain\"],\n",
    "                \"wind_kph\": day[\"day\"][\"maxwind_kph\"],\n",
    "                \"is_outdoor_friendly\": day[\"day\"][\"daily_chance_of_rain\"] < 30\n",
    "            }\n",
    "    return {\"error\": \"Weather data not found for target date\"}\n",
    "\n",
    "# Multi-date assmebler\n",
    "def generate_week_weather_data(location: str, days: List[str]) -> List[Dict[str, Any]]:\n",
    "    dates = resolve_dates(days)\n",
    "    weather_data = []\n",
    "    for d in dates:\n",
    "        daily = fetch_weather(location, d)\n",
    "        weather_data.append({\n",
    "            \"date\": d.strftime(\"%A, %B %d\"),\n",
    "            \"raw_date\": d.isoformat(),\n",
    "            \"weather\": daily\n",
    "        })\n",
    "    return weather_data"
   ]
  },
  {
   "cell_type": "code",
   "execution_count": 26,
   "metadata": {},
   "outputs": [],
   "source": [
    "# Define the week planner tool\n",
    "\n",
    "@tool\n",
    "def plan_week(location: str, days: str = \"\") -> Dict[str, Any]:\n",
    "    \"\"\"\n",
    "    Fetches weather for planning purposes. LLM will use this to decide activities and food.\n",
    "    \"\"\"\n",
    "    if not days.strip():\n",
    "        today = datetime.now().date()\n",
    "        day_list = [(today + timedelta(days=i)).strftime(\"%A\") for i in range(7)]\n",
    "    else:\n",
    "        day_list = [d.strip() for d in days.split(\",\")]\n",
    "\n",
    "    weather_report = generate_week_weather_data(location, day_list)\n",
    "    return {\n",
    "        \"location\": location,\n",
    "        \"forecast\": weather_report\n",
    "    }"
   ]
  },
  {
   "cell_type": "code",
   "execution_count": 27,
   "metadata": {},
   "outputs": [],
   "source": [
    "# Initialize the LLM with OpenAI GPT-4o\n",
    "llm = ChatOpenAI(\n",
    "    api_key=key[\"openai_api\"],\n",
    "    model=\"o4-mini-2025-04-16\",\n",
    "    #model=\"gpt-4o\",\n",
    ")\n",
    "\n",
    "# Bind tools to the LLM\n",
    "llm_with_tools = llm.bind_tools([plan_week])"
   ]
  },
  {
   "cell_type": "code",
   "execution_count": 28,
   "metadata": {},
   "outputs": [],
   "source": [
    "# ToolNode for handling tool execution\n",
    "tool_node = ToolNode([plan_week])"
   ]
  },
  {
   "cell_type": "code",
   "execution_count": 29,
   "metadata": {},
   "outputs": [],
   "source": [
    "# Define state type\n",
    "class State(TypedDict):\n",
    "    messages: Annotated[list, add_messages]"
   ]
  },
  {
   "cell_type": "code",
   "execution_count": 30,
   "metadata": {},
   "outputs": [
    {
     "data": {
      "text/plain": [
       "<langgraph.graph.state.StateGraph at 0x10b1b7280>"
      ]
     },
     "execution_count": 30,
     "metadata": {},
     "output_type": "execute_result"
    }
   ],
   "source": [
    "# Initialize the graph\n",
    "graph = StateGraph(State)\n",
    "\n",
    "# Add tool node\n",
    "graph.add_node(\"tool_node\", tool_node)"
   ]
  },
  {
   "cell_type": "code",
   "execution_count": null,
   "metadata": {},
   "outputs": [
    {
     "data": {
      "text/plain": [
       "<langgraph.graph.state.StateGraph at 0x10b1b7280>"
      ]
     },
     "execution_count": 31,
     "metadata": {},
     "output_type": "execute_result"
    }
   ],
   "source": [
    "# Define the prompt node\n",
    "def prompt_node(state: State) -> State:\n",
    "    new_message = llm_with_tools.invoke(state[\"messages\"])\n",
    "    return {\"messages\": [new_message]}\n",
    "\n",
    "# Add prompt node to the graph\n",
    "graph.add_node(\"prompt_node\", prompt_node)"
   ]
  },
  {
   "cell_type": "code",
   "execution_count": 32,
   "metadata": {},
   "outputs": [
    {
     "data": {
      "text/plain": [
       "<langgraph.graph.state.StateGraph at 0x10b1b7280>"
      ]
     },
     "execution_count": 32,
     "metadata": {},
     "output_type": "execute_result"
    }
   ],
   "source": [
    "# Define logic to determine next node\n",
    "def conditional_edge(state: State) -> Literal[\"tool_node\", \"__end__\"]:\n",
    "    last_message = state[\"messages\"][-1]\n",
    "    return \"tool_node\" if last_message.tool_calls else \"__end__\"\n",
    "\n",
    "# Connect nodes based on logic\n",
    "graph.add_conditional_edges(\"prompt_node\", conditional_edge)\n",
    "graph.add_edge(\"tool_node\", \"prompt_node\")"
   ]
  },
  {
   "cell_type": "code",
   "execution_count": 33,
   "metadata": {},
   "outputs": [],
   "source": [
    "# Set the entry point and compile the graph\n",
    "graph.set_entry_point(\"prompt_node\")\n",
    "APP = graph.compile()"
   ]
  },
  {
   "cell_type": "code",
   "execution_count": null,
   "metadata": {},
   "outputs": [
    {
     "name": "stdout",
     "output_type": "stream",
     "text": [
      "Here’s a flexible two-day outdoor-focused weekend plan for Washington, DC. Adjust timing to match your arrival/departure and the actual forecast. If it looks rainy or too hot/humid, swap in one of the “weather-backup” options at the end.\n",
      "\n",
      "––––––––––––––––––––––––––––––––––––––––––––––––––––––––––––––––––––––  \n",
      "SATURDAY  \n",
      "––––––––––––––––––––––––––––––––––––––––––––––––––––––––––––––––––––––  \n",
      "08:00–09:00 \n",
      "• Breakfast at Eastern Market (377 7th St SE)  \n",
      "  – Grab coffee and a breakfast sandwich or pastries at Astro Coffee or Market Lunch.  \n",
      "\n",
      "09:00–12:30  \n",
      "• National Mall by bike or on foot  \n",
      "  – Rent a Capital Bikeshare bike near Eastern Market.  \n",
      "  – Roll north along the Mall: U.S. Capitol → Folklife Pavilion → Smithsonian castles → Washington Monument → WWII Memorial → Lincoln Memorial.  \n",
      "  – Stop for photos and short breaks; the total loop is about 5–6 miles.  \n",
      "\n",
      "12:30–13:30  \n",
      "• Lunch  \n",
      "  – Food trucks on 7th Street NW between Madison & Pennsylvania, or Blue Duck Tavern’s lunch quick-menu near the White House.  \n",
      "\n",
      "13:30–16:30  \n",
      "• Kayaking or paddle-boarding on the Potomac  \n",
      "  – Key Bridge Boathouse (under Key Bridge, Georgetown side) or Thompson Boat Center (East Potomac Park).  \n",
      "  – 2-hour rental gives you a scenic paddle past the Kennedy Center, Roosevelt Island, and Georgetown waterfront.  \n",
      "\n",
      "16:30–18:00  \n",
      "• Georgetown waterfront stroll & coffee  \n",
      "  – Walk the C&O Canal towpath or M Street.  \n",
      "  – Stop at Baked & Wired for a cupcake or espresso.  \n",
      "\n",
      "18:00–20:00  \n",
      "• Dinner in Georgetown  \n",
      "  – Try Farmers Fishers Bakers for river-view seating, Sequoia, or Martin’s Tavern for historic DC vibes.  \n",
      "\n",
      "20:00 onward  \n",
      "• Evening walk along the Potomac or return to the Lincoln Memorial at sunset—beautiful light, fewer crowds.  \n",
      "\n",
      "––––––––––––––––––––––––––––––––––––––––––––––––––––––––––––––––––––––  \n",
      "SUNDAY  \n",
      "––––––––––––––––––––––––––––––––––––––––––––––––––––––––––––––––––––––  \n",
      "07:30–08:30  \n",
      "• Coffee & light bite  \n",
      "  – Busboys and Poets (multiple locations) or The Wydown (14th Street).  \n",
      "\n",
      "09:00–12:30  \n",
      "• Great Falls Park (VA side) or Rock Creek Park hike  \n",
      "  – Great Falls: a 20-minute drive to stunning waterfalls and overlooks (moderate trails, allow 2–3 hours).  \n",
      "  – Rock Creek: closer in, with a network of wooded trails—rent a bike at Rock Creek Hillside Equestrian Center if you want.  \n",
      "\n",
      "12:30–13:30  \n",
      "• Brunch in Adams Morgan  \n",
      "  – Amsterdam Falafelshop, Mintwood Place, or Tail Up Goat.  \n",
      "\n",
      "13:30–15:30  \n",
      "• U.S. National Arboretum  \n",
      "  – Drive or take a cab to the Arboretum (3501 New York Ave NE).  \n",
      "  – Don’t miss the Capitol Columns, Azalea Collection, Bonsai & Penjing Museum.  \n",
      "\n",
      "15:30–17:00  \n",
      "• Tidal Basin & Jefferson Memorial loop  \n",
      "  – Rent a paddle boat near the Tidal Basin kiosk (available spring–fall).  \n",
      "  – Stroll past the cherry trees, FDR Memorial, and Martin Luther King Jr. Memorial.  \n",
      "\n",
      "17:00–18:00  \n",
      "• Early dinner or snacks near Penn Quarter  \n",
      "  – Grab ramen at Daikaya, tacos at Oyamel, or pizza at 2 Amys.  \n",
      "\n",
      "18:00 onward  \n",
      "• Optional evening stroll through the illuminated monuments along the Mall, or catch live jazz at the 9:30 Club or Twins Jazz bar if you want a post-outdoors wind-down.  \n",
      "\n",
      "––––––––––––––––––––––––––––––––––––––––––––––––––––––––––––––––––––––  \n",
      "WEATHER-BACKUPS (indoors or covered)  \n",
      "––––––––––––––––––––––––––––––––––––––––––––––––––––––––––––––––––––––  \n",
      "• Smithsonian museums along the Mall (Air-conditioned, free entry).  \n",
      "• International Spy Museum (L’Enfant Plaza).  \n",
      "• National Portrait Gallery & American Art Museum (upstairs is free).  \n",
      "• Union Market indoor food hall (hot spot for sampling local vendors).  \n",
      "• Eastern Market craft stalls (covered, in case of light rain).  \n",
      "\n",
      "––––––––––––––––––––––––––––––––––––––––––––––––––––––––––––––––––––––  \n",
      "TIPS  \n",
      "––––––––––––––––––––––––––––––––––––––––––––––––––––––––––––––––––––––  \n",
      "• Always carry a refillable water bottle and sunscreen.  \n",
      "• Check the DC Capital Bikeshare app for station availability.  \n",
      "• If you rent a car for Great Falls or the Arboretum, reserve parking early on weekends.  \n",
      "• Download the DC Circulator bus app for cheap, air-conditioned rides around key neighborhoods.  \n",
      "• Monitor weather via the National Weather Service (weather.gov).  \n",
      "\n",
      "Enjoy your DC weekend! If you have specific dates or any special interests (birding, photography, evening theater), let me know and I can fine-tune the plan.\n"
     ]
    }
   ],
   "source": [
    "# Using gpt-4o\n",
    "user_query = \"I am spending my weekend in Washington DC. Can you help me plan my time there? I am interested in outdoor activities, if the weather is favourable.\"\n",
    "\n",
    "response = llm.invoke(user_query)\n",
    "print(response.content)"
   ]
  },
  {
   "cell_type": "code",
   "execution_count": null,
   "metadata": {},
   "outputs": [
    {
     "name": "stdout",
     "output_type": "stream",
     "text": [
      "Here's the weather forecast for your weekend in Washington DC:\n",
      "\n",
      "- **Saturday, April 26**: Unfortunately, Saturday is expected to have heavy rain with a max temperature of 21.3°C and a high chance of rain (88%). Winds could reach up to 24.1 kph, making it unsuitable for outdoor activities.\n",
      "  \n",
      "- **Sunday, April 27**: The weather improves significantly on Sunday, with sunny skies and no chance of rain. The temperature will reach up to 22.3°C, with mild winds at 23.0 kph, making it perfect for outdoor activities.\n",
      "\n",
      "### Activity Suggestions:\n",
      "\n",
      "**Saturday (Indoor-Focused):**\n",
      "- **Museums**: Consider visiting the Smithsonian Museums, like the National Air and Space Museum or the National Museum of American History.\n",
      "- **Cafés & Restaurants**: Enjoy some of the local dining experiences in the city. Maybe try a brunch at one of the well-reviewed spots.\n",
      "- **Theatres/Entertainment**: Look for shows or performances at the Kennedy Center or other local theaters.\n",
      "\n",
      "**Sunday (Outdoor-Focused):**\n",
      "- **National Mall**: Spend the day exploring the National Mall, visiting iconic monuments and memorials.\n",
      "- **Biking or Walking Tours**: The sunny weather is ideal for a biking or walking tour of the city.\n",
      "- **Parks and Gardens**: Enjoy a leisurely day at the U.S. National Arboretum or Rock Creek Park.\n",
      "\n",
      "Enjoy your weekend in Washington DC!\n"
     ]
    }
   ],
   "source": [
    "# Using GPT-4o + Agents\n",
    "user_query = \"I am spending my weekend in Washington DC. Can you help me plan my time there? I am interested in outdoor activities, if the weather is favourable.\"\n",
    "\n",
    "response = APP.invoke({\"messages\": [user_query]})\n",
    "print(response[\"messages\"][-1].content)"
   ]
  },
  {
   "cell_type": "code",
   "execution_count": null,
   "metadata": {},
   "outputs": [
    {
     "name": "stdout",
     "output_type": "stream",
     "text": [
      "Here’s a two-day weekend plan for Washington, D.C., tailored to the forecast (Saturday: heavy rain; Sunday: sunny and pleasant).\n",
      "\n",
      "— SATURDAY (Heavy rain, not ideal for outdoor activities) —\n",
      "09:30 AM – 12:00 PM  Smithsonian Museums  \n",
      "  • Start at the National Museum of American History (Penn Q and 14th St NW).  \n",
      "  • If you prefer science/tech, head to the National Air and Space Museum (Independence Ave).  \n",
      "  • Both are free; Metro: Smithsonian station (Orange/Blue/Smiththsonian dr).\n",
      "\n",
      "12:15 PM – 01:30 PM  Lunch in the Mall area  \n",
      "  • Indoor café options: Mitsitam Cafe (American Indian menu at the National Museum of the American Indian) or Pão de Queijo at the Air and Space Museum.  \n",
      "\n",
      "01:45 PM – 04:00 PM  National Gallery of Art  \n",
      "  • East Building for modern art, West Building for classical.  \n",
      "  • Free; Sculpture Garden café is covered if you need a short break.\n",
      "\n",
      "04:15 PM – 06:00 PM  U.S. Capitol Visitor Center or Library of Congress  \n",
      "  • Both offer guided tours indoors—reserve ahead if you can.  \n",
      "  • Nearby seating for a hot coffee or tea break.\n",
      "\n",
      "06:30 PM – 08:00 PM  Dinner in Penn Quarter  \n",
      "  • Jaleo (Spanish tapas) or Zaytinya (Eastern Mediterranean) are both a short walk from Metro Center.\n",
      "\n",
      "08:00 PM – …  Evening entertainment (optional)  \n",
      "  • Catch a performance at the Kennedy Center Millennium Stage (free daily shows) or  \n",
      "  • Head to The Wharf for indoor waterfront bars and live music.\n",
      "\n",
      "— SUNDAY (Sunny, up to 22 °C, perfect for outdoor exploration) —\n",
      "08:30 AM – 09:30 AM  Breakfast in Georgetown  \n",
      "  • Baked & Wired for coffee and pastries, or Farmers Fishers Bakers on the Waterfront.  \n",
      "  • Stroll the C&O Canal towpath briefly if you’d like.\n",
      "\n",
      "10:00 AM – 12:00 PM  Tidal Basin & Monuments by foot or bike  \n",
      "  • Rent a bike from Capital Bikeshare (stations at 17th & Constitution).  \n",
      "  • Loop past the Jefferson, MLK Jr. and FDR Memorials; great photo ops.\n",
      "\n",
      "12:15 PM – 01:30 PM  Picnic Lunch on the Mall  \n",
      "  • Pick up sandwiches or salads from a food truck along Independence Ave.  \n",
      "  • Spread out a blanket near the Washington Monument.\n",
      "\n",
      "01:45 PM – 03:45 PM  Hike or bike in Rock Creek Park OR paddle on the Potomac  \n",
      "  • Rock Creek Park: follow paved trails from the P Street entrance (bike rental nearby).  \n",
      "  • Alternatively, rent a paddleboat or kayak from the Georgetown Waterfront Boathouse.\n",
      "\n",
      "04:00 PM – 05:30 PM  Arlington National Cemetery (optional)  \n",
      "  • Cross the Memorial Bridge on foot or by rental bike. Visit the Tomb of the Unknown Soldier.\n",
      "\n",
      "06:00 PM – 07:30 PM  Dinner al fresco on The Wharf  \n",
      "  • Fish Market seafood, District Winery for casual wine + small plates right on the water.\n",
      "\n",
      "08:00 PM – …  Sunset stroll along the Potomac or rooftop bar  \n",
      "  • The Wharf’s docks and piers are lit beautifully at sunset.  \n",
      "  • Try Officina at the Wharf for cocktails with a view.\n",
      "\n",
      "— Tips & Notes —\n",
      "• Saturday museum lines can be long—reserve timed-entry where possible.  \n",
      "• Metro weekend schedules can be reduced; allow a bit more travel time or use rideshares.  \n",
      "• Bring a small umbrella Saturday and pack sunscreen/hydration for Sunday.  \n",
      "• If you want to swap any activity, many Smithsonian museums and memorials are clustered around the Mall—easy to pivot indoors or out.  \n",
      "\n",
      "Enjoy your D.C. weekend!\n"
     ]
    }
   ],
   "source": [
    "# Using 04-mini + Agents\n",
    "user_query = \"I am spending my weekend in Washington DC. Can you help me plan my time there? I am interested in outdoor activities, if the weather is favourable.\"\n",
    "\n",
    "response = APP.invoke({\"messages\": [user_query]})\n",
    "print(response[\"messages\"][-1].content)"
   ]
  },
  {
   "cell_type": "markdown",
   "metadata": {},
   "source": [
    " START\n",
    "  ↓\n",
    "[prompt_node] (LLM sees conversation so far)\n",
    "  ↓\n",
    "(LLM decides to call a tool, e.g., plan_week)\n",
    "  ↓\n",
    "[tool_node] (Tool runs, gets results)\n",
    "  ↓\n",
    "(Update messages: add tool output to conversation)\n",
    "  ↓\n",
    "[prompt_node again] (LLM sees tool result + conversation)\n",
    "  ↓\n",
    "(LLM generates final user-facing response)\n",
    "  ↓\n",
    "END\n"
   ]
  }
 ],
 "metadata": {
  "kernelspec": {
   "display_name": "agentic_demo",
   "language": "python",
   "name": "python3"
  },
  "language_info": {
   "codemirror_mode": {
    "name": "ipython",
    "version": 3
   },
   "file_extension": ".py",
   "mimetype": "text/x-python",
   "name": "python",
   "nbconvert_exporter": "python",
   "pygments_lexer": "ipython3",
   "version": "3.10.0"
  }
 },
 "nbformat": 4,
 "nbformat_minor": 2
}
